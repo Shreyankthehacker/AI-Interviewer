{
 "cells": [
  {
   "cell_type": "code",
   "execution_count": 1,
   "metadata": {},
   "outputs": [],
   "source": [
    "import langgraph\n"
   ]
  },
  {
   "cell_type": "code",
   "execution_count": null,
   "metadata": {},
   "outputs": [],
   "source": [
    "# first introduction then ill ask if u r ready then conditional if you are ready then go for ask the question if not then fallback if ready then first check the topic and use grading regarding how tough was the question (grader node) and then also verify if the answer was more like AI generated"
   ]
  },
  {
   "cell_type": "code",
   "execution_count": 6,
   "metadata": {},
   "outputs": [],
   "source": [
    "from pydantic import BaseModel,Field\n",
    "\n",
    "from pydantic import BaseModel, Field\n",
    "from typing import List\n",
    "\n",
    "class State(BaseModel):\n",
    "    questions: List[str] = Field(default_factory=list, description=\"List of questions asked by the AI\")\n",
    "    answers: List[str] = Field(default_factory=list, description=\"List of answers given by the candidate\")\n",
    "    grade: int = Field(default=0, description=\"Total grade scored by the candidate\")\n",
    "    summary: str = Field(default=\"\", description=\"Summary of the whole conversation\")\n",
    "    cheating_penalty: int = Field(default=0, description=\"Penalty applied due to cheating detection\")"
   ]
  },
  {
   "cell_type": "code",
   "execution_count": 1,
   "metadata": {},
   "outputs": [],
   "source": [
    "from langchain_core.messages import HumanMessage, AIMessage\n",
    "\n",
    "intro_msg = '''Hello and welcome! I am your AI interview assistant, here to help you practice and improve your interview skills. In this session, I’ll be asking you a series of questions, just like in a real interview. Your responses will be evaluated to provide you with feedback, so you can learn and grow from the experience.\n",
    "\n",
    "Please feel free to speak clearly and answer the questions to the best of your ability. If at any point you need me to repeat a question or pause, just let me know! When you're ready to start, simply say ‘let’s begin’ or ‘I’m ready.’\n",
    "\n",
    "Let's get started and have a great session!\n",
    "'''\n",
    "\n",
    "initial_message = \"\"\"\n",
    "You are InterviewBot, an AI assistant designed to help candidates prepare for job interviews by asking challenging, in-depth questions. Follow these guidelines:\n",
    "\n",
    "1. **Friendly Introduction & Tone**\n",
    "   - Greet the user warmly and introduce yourself as InterviewBot, here to assist with mock interviews.\n",
    "   - Maintain a professional, supportive tone throughout the session.\n",
    "\n",
    "2. **Ask Challenging, In-Depth Questions**\n",
    "   - Focus on asking detailed, thought-provoking questions that require the candidate to give comprehensive answers.\n",
    "   - Example areas of focus:\n",
    "     - Problem-solving and decision-making.\n",
    "     - Leadership and team collaboration.\n",
    "     - Technical expertise or role-specific knowledge.\n",
    "     - Situational and behavioral questions that assess experience and skills.\n",
    "   - Examples of in-depth questions:\n",
    "     - \"Can you describe a situation where you had to solve a complex problem at work? How did you approach it?\"\n",
    "     - \"Tell me about a time when you had to lead a team under tight deadlines. What steps did you take to ensure success?\"\n",
    "     - \"How do you prioritize tasks when you have multiple projects with competing deadlines?\"\n",
    "     - \"What strategies do you use to handle conflict within a team?\"\n",
    "     - \"Can you walk me through a particularly challenging project you've worked on, and the steps you took to overcome the obstacles?\"\n",
    "\n",
    "3. **User Confirmation Before Ending**\n",
    "   - Only conclude the session once the user has clearly indicated they are finished or if they ask for a summary of their performance.\n",
    "\n",
    "By following these guidelines, you ensure a challenging and professional mock interview experience, pushing the candidate to provide detailed and thoughtful responses.\n",
    "---\n",
    "\n",
    "### Communication Style\n",
    "\n",
    "- **Tone**: Professional, yet warm and encouraging.\n",
    "- **Style**: Focused on asking in-depth questions that challenge the candidate to provide thoughtful, well-rounded answers.\n",
    "\n",
    "\"\"\"\n",
    "\n"
   ]
  },
  {
   "cell_type": "code",
   "execution_count": 8,
   "metadata": {},
   "outputs": [],
   "source": [
    "from langgraph.graph import MessagesState\n",
    "import dotenv\n",
    "\n",
    "dotenv.load_dotenv()\n",
    "start = None \n",
    "end = None\n",
    "from langchain_core.messages import SystemMessage\n",
    "from langgraph.graph import END\n",
    "from langchain_google_genai import ChatGoogleGenerativeAI\n",
    "\n",
    "llm = ChatGoogleGenerativeAI(model = 'gemini-1.5-flash')\n",
    "\n",
    "\n"
   ]
  },
  {
   "cell_type": "code",
   "execution_count": 13,
   "metadata": {},
   "outputs": [],
   "source": [
    "from langgraph.graph import MessagesState\n",
    "from langchain_core.messages import HumanMessage,AIMessage,RemoveMessage,SystemMessage\n",
    "from langgraph.graph import END\n",
    "\n",
    "\n",
    "from langchain_core.messages import SystemMessage, HumanMessage, AIMessage\n",
    "\n",
    "def summarizer(state: State):\n",
    "    # Construct formatted Q&A dialogue\n",
    "    dialogue = \"\"\n",
    "    for i, (q, a) in enumerate(zip(state.questions, state.answers), 1):\n",
    "        dialogue += f\"Q{i}: {q}\\nA{i}: {a}\\n\\n\"\n",
    "\n",
    "    # Build the conversation history\n",
    "    messages = [\n",
    "        SystemMessage(\n",
    "            content=\"You are an expert interviewer assistant. Your job is to create a concise and coherent summary of the interview so far.\"\n",
    "        )\n",
    "    ]\n",
    "\n",
    "    # Optional: include previous summary as an AI response\n",
    "    if state.summary:\n",
    "        messages.append(AIMessage(content=f\"Previous summary: {state.summary}\"))\n",
    "\n",
    "    # Human provides the latest Q&A to summarize\n",
    "    messages.append(\n",
    "        HumanMessage(content=f\"Here are the latest interview questions and answers:\\n{dialogue}\\n\\nPlease generate or improve the summary.\")\n",
    "    )\n",
    "\n",
    "    # Call the LLM\n",
    "    response = llm.invoke(messages)\n",
    "\n",
    "    return {\"summary\": response.content}\n",
    "\n"
   ]
  },
  {
   "cell_type": "code",
   "execution_count": 33,
   "metadata": {},
   "outputs": [],
   "source": [
    "summary = '''The interview covered key topics in machine learning, including supervised vs. unsupervised learning and decision tree algorithms. The candidate demonstrated a solid understanding of the differences between labeled and unlabeled data, as well as appropriate examples for each learning type. They also explained the decision tree mechanism well, mentioning feature splits and criteria like information gain and Gini impurity. However, their explanation could have been improved by discussing pruning methods in more detail.'''\n",
    "questions = [\"What is machine learning\"]\n",
    "answers = [\"Machine lerning is a field to instruct computers how to mimic human brain\"]\n",
    "state = State(questions=[], answers=[], grade=0, summary=summary,cheating_penalty=0)\n",
    "#summarizer(state)\n"
   ]
  },
  {
   "cell_type": "code",
   "execution_count": 16,
   "metadata": {},
   "outputs": [],
   "source": [
    "system_msg = '''You are an expert, in-depth technical interviewer conducting an intelligent, evolving interview on the topic: \"{topic}\".\n",
    "\n",
    "Your responsibilities:\n",
    "- Ask one thoughtful and relevant question at a time.\n",
    "- Use the full context of previous **questions and answers** to decide what to ask next.\n",
    "- Dig deeper with each question: ask for reasoning, examples, edge cases, trade-offs, implementation choices, or real-world application.\n",
    "- Keep the tone professional, curious, and focused.\n",
    "- Avoid repeating earlier questions.\n",
    "- Do not provide answers or hints unless explicitly asked.\n",
    "\n",
    "Interview context:\n",
    "{conversation_history}  ← (include all previous Q&A or a summary)\n",
    "\n",
    "Now ask the next most relevant follow-up question based on this conversation.\n",
    "'''"
   ]
  },
  {
   "cell_type": "code",
   "execution_count": 56,
   "metadata": {},
   "outputs": [],
   "source": [
    "grading_prompt = '''You are an expert technical evaluator reviewing a candidate's response to an interview question.\n",
    "\n",
    "Your task is to **objectively grade the candidate's answer on a strict scale of 1 to 10**, based on:\n",
    "- Technical accuracy\n",
    "- Relevance to the question\n",
    "- Depth of explanation\n",
    "- Clarity and completeness\n",
    "\n",
    "Do not be lenient. Do not give high scores unless the answer truly deserves it.\n",
    "\n",
    "Provide:\n",
    "1. A numerical grade (1–10) just and just a number is all we need \n",
    "\n",
    "Question:\n",
    "{question}\n",
    "\n",
    "Answer:\n",
    "{answer}\n",
    "\n",
    "Now, strictly evaluate and assign a score.\n",
    "'''"
   ]
  },
  {
   "cell_type": "code",
   "execution_count": 78,
   "metadata": {},
   "outputs": [],
   "source": [
    "cheating_prompt = '''\n",
    "You are an expert in detecting AI-generated text.\n",
    "\n",
    "Analyze the candidate's answer to a technical question and return only a single integer from 1 to 5 representing how likely it is to be AI-generated.\n",
    "\n",
    "Scoring criteria:\n",
    "1 — Definitely human-written  \n",
    "2 — Probably human-written  \n",
    "3 — Ambiguous  \n",
    "4 — Probably AI-generated  \n",
    "5 — Definitely AI-generated\n",
    "\n",
    "Consider:\n",
    "- Style and tone\n",
    "- Repetition or lack of nuance\n",
    "- Overly polished or generic phrasing\n",
    "- Absence of personal perspective or reasoning\n",
    "\n",
    "Important:\n",
    "Return ONLY the integer. Do not include any explanation, labels, or additional text.\n",
    "'''\n"
   ]
  },
  {
   "cell_type": "code",
   "execution_count": 37,
   "metadata": {},
   "outputs": [],
   "source": [
    "\n",
    "\n",
    "def call_model(state: State):\n",
    "    print(\"call model\")\n",
    "    last_question = state.questions[-1] if state.questions else \"What are your expertise in technology?\"\n",
    "    last_answer = state.answers[-1] if state.answers else \"I am very much interested in Machine Learning for how beautiful it is.\"\n",
    "\n",
    "    messages = [\n",
    "        SystemMessage(content=system_msg.format(\n",
    "            topic=\"Machine Learning\",\n",
    "            conversation_history=state.summary\n",
    "        )),\n",
    "        AIMessage(content=last_question),\n",
    "        HumanMessage(content=last_answer)\n",
    "    ]\n",
    "\n",
    "    question = llm.invoke(messages)\n",
    "    print(questions)\n",
    "    state.questions.append(questions[-1])\n",
    "\n",
    "    return {\"questions\": state.questions}\n"
   ]
  },
  {
   "cell_type": "code",
   "execution_count": 38,
   "metadata": {},
   "outputs": [
    {
     "name": "stdout",
     "output_type": "stream",
     "text": [
      "call model\n",
      "['What is machine learning']\n"
     ]
    },
    {
     "data": {
      "text/plain": [
       "{'questions': ['What is machine learning']}"
      ]
     },
     "execution_count": 38,
     "metadata": {},
     "output_type": "execute_result"
    }
   ],
   "source": [
    "call_model(state)"
   ]
  },
  {
   "cell_type": "code",
   "execution_count": 39,
   "metadata": {},
   "outputs": [],
   "source": [
    "def human_answer(state: State):\n",
    "    print(\"human answer\")\n",
    "    answer = input(state.questions[-1])  # Assumes last question is present\n",
    "    state.answers.append(answer)\n",
    "    return {\"answers\": state.answers}\n"
   ]
  },
  {
   "cell_type": "code",
   "execution_count": 40,
   "metadata": {},
   "outputs": [
    {
     "name": "stdout",
     "output_type": "stream",
     "text": [
      "human answer\n"
     ]
    },
    {
     "data": {
      "text/plain": [
       "{'answers': ['Machine learning is art of helping computer understand complex patterns']}"
      ]
     },
     "execution_count": 40,
     "metadata": {},
     "output_type": "execute_result"
    }
   ],
   "source": [
    "human_answer(state)"
   ]
  },
  {
   "cell_type": "code",
   "execution_count": 41,
   "metadata": {},
   "outputs": [
    {
     "data": {
      "text/plain": [
       "State(questions=['What is machine learning'], answers=['Machine learning is art of helping computer understand complex patterns'], grade=0, summary='The interview covered key topics in machine learning, including supervised vs. unsupervised learning and decision tree algorithms. The candidate demonstrated a solid understanding of the differences between labeled and unlabeled data, as well as appropriate examples for each learning type. They also explained the decision tree mechanism well, mentioning feature splits and criteria like information gain and Gini impurity. However, their explanation could have been improved by discussing pruning methods in more detail.', cheating_penalty=0)"
      ]
     },
     "execution_count": 41,
     "metadata": {},
     "output_type": "execute_result"
    }
   ],
   "source": [
    "state"
   ]
  },
  {
   "cell_type": "code",
   "execution_count": 174,
   "metadata": {},
   "outputs": [],
   "source": [
    "def start_message(state):\n",
    "    return {\n",
    "        \"intro\": (\n",
    "            \"👋 Hello! Welcome to your AI-powered technical interview.\\n\\n\"\n",
    "            \"We'll be diving into a series of questions on the topic of *Machine Learning*.\\n\"\n",
    "            \"Please try to answer each question in your own words as clearly and concisely as possible.\\n\\n\"\n",
    "            \"Your responses will be evaluated for accuracy, depth, and clarity.\\n\"\n",
    "            \"You can speak naturally — the system is designed to adapt based on your answers.\\n\\n\"\n",
    "            \"Let's get started. Good luck! 🚀\"\n",
    "        )\n",
    "    }\n"
   ]
  },
  {
   "cell_type": "code",
   "execution_count": 42,
   "metadata": {},
   "outputs": [],
   "source": [
    "def should_continue_interview(state):\n",
    "    print(\"Should continue\")\n",
    "    # can use interrupt here to stop the agent or use time to stop the agent \n",
    "    if(len(state.questions)>=2):\n",
    "        return \"end\" \n",
    "    return \"continue\"\n"
   ]
  },
  {
   "cell_type": "code",
   "execution_count": 43,
   "metadata": {},
   "outputs": [
    {
     "name": "stdout",
     "output_type": "stream",
     "text": [
      "Should continue\n"
     ]
    },
    {
     "data": {
      "text/plain": [
       "'continue'"
      ]
     },
     "execution_count": 43,
     "metadata": {},
     "output_type": "execute_result"
    }
   ],
   "source": [
    "should_continue_interview(state)"
   ]
  },
  {
   "cell_type": "code",
   "execution_count": 74,
   "metadata": {},
   "outputs": [],
   "source": [
    "\n",
    "def grading(state):\n",
    "    print(\"grading\")\n",
    "    question = state.questions[-1]\n",
    "    answer = state.answers[-1]\n",
    "    # this is the question and this is the answer grade it according to you on scale of 10 and do it strictly dont be too much biased \n",
    "    grade = llm.invoke([SystemMessage(content = grading_prompt.format(question = question , answer = answer))]+[f\"Question is {question} and the answer is {answer} just return a integer or even float no text anything i just want number \"])\n",
    "    print(grade)\n",
    "    return {\"grade\":state.grade+(int)(grade.content)}\n"
   ]
  },
  {
   "cell_type": "code",
   "execution_count": 75,
   "metadata": {},
   "outputs": [
    {
     "name": "stdout",
     "output_type": "stream",
     "text": [
      "grading\n",
      "content='3' additional_kwargs={} response_metadata={'prompt_feedback': {'block_reason': 0, 'safety_ratings': []}, 'finish_reason': 'STOP', 'model_name': 'gemini-1.5-flash', 'safety_ratings': []} id='run-cd8cf3b4-c6f6-41d1-848e-ddb66a128487-0' usage_metadata={'input_tokens': 177, 'output_tokens': 2, 'total_tokens': 179, 'input_token_details': {'cache_read': 0}}\n"
     ]
    },
    {
     "data": {
      "text/plain": [
       "{'grade': 3}"
      ]
     },
     "execution_count": 75,
     "metadata": {},
     "output_type": "execute_result"
    }
   ],
   "source": [
    "grading(state)"
   ]
  },
  {
   "cell_type": "code",
   "execution_count": 79,
   "metadata": {},
   "outputs": [],
   "source": [
    "def cheatingcheck(state):\n",
    "    print(\"cheating check\")\n",
    "    question = state.questions[-1]\n",
    "    answer = state.answers[-1]\n",
    "\n",
    "    sys_prompt = SystemMessage(content = cheating_prompt)\n",
    "    human_msg = HumanMessage(content = answer )\n",
    "    ai_msg = AIMessage(content = question)\n",
    "    prompt = [\n",
    "        sys_prompt,\n",
    "        ai_msg,\n",
    "        human_msg\n",
    "    ]\n",
    "    result = llm.invoke(prompt)\n",
    "    print(result)\n",
    "\n",
    "    return {\"cheating_penalty\": state.cheating_penalty+(int)(result.content)}"
   ]
  },
  {
   "cell_type": "code",
   "execution_count": 80,
   "metadata": {},
   "outputs": [
    {
     "name": "stdout",
     "output_type": "stream",
     "text": [
      "cheating check\n",
      "content='4' additional_kwargs={} response_metadata={'prompt_feedback': {'block_reason': 0, 'safety_ratings': []}, 'finish_reason': 'STOP', 'model_name': 'gemini-1.5-flash', 'safety_ratings': []} id='run-5e8fd32f-040e-4a0f-b071-3b64db88a97c-0' usage_metadata={'input_tokens': 154, 'output_tokens': 2, 'total_tokens': 156, 'input_token_details': {'cache_read': 0}}\n"
     ]
    },
    {
     "data": {
      "text/plain": [
       "{'cheating_penalty': 4}"
      ]
     },
     "execution_count": 80,
     "metadata": {},
     "output_type": "execute_result"
    }
   ],
   "source": [
    "cheatingcheck(state)"
   ]
  },
  {
   "cell_type": "code",
   "execution_count": 81,
   "metadata": {},
   "outputs": [],
   "source": [
    "\n",
    "\n",
    "\n",
    "\n",
    "def ending(state: State):\n",
    "    message = \"\\n🎉 Thank you for attending the interview!\\n\"\n",
    "    message += f\"🧠 Final Score: {state.grade}/100\\n\"\n",
    "    message += \"\\n📋 Here's a summary of your responses:\\n\"\n",
    "\n",
    "    for i, (q, a) in enumerate(zip(state.questions, state.answers), 1):\n",
    "        message += f\"\\nQ{i}: {q}\\nA{i}: {a}\\n\"\n",
    "\n",
    "    message += \"\\nBest of luck for your future opportunities! 🚀\"\n",
    "    \n",
    "    return {\"final_message\": message}\n",
    "\n",
    "\n",
    "# make the initial message to be more of like the message should be such that the question usually asked should be oriented on the answers answered by the candidiate\n",
    "\n"
   ]
  },
  {
   "cell_type": "code",
   "execution_count": 83,
   "metadata": {},
   "outputs": [
    {
     "data": {
      "text/plain": [
       "State(questions=['What is machine learning'], answers=['Machine learning is art of helping computer understand complex patterns'], grade=0, summary='The interview covered key topics in machine learning, including supervised vs. unsupervised learning and decision tree algorithms. The candidate demonstrated a solid understanding of the differences between labeled and unlabeled data, as well as appropriate examples for each learning type. They also explained the decision tree mechanism well, mentioning feature splits and criteria like information gain and Gini impurity. However, their explanation could have been improved by discussing pruning methods in more detail.', cheating_penalty=0)"
      ]
     },
     "execution_count": 83,
     "metadata": {},
     "output_type": "execute_result"
    }
   ],
   "source": [
    "state"
   ]
  },
  {
   "cell_type": "code",
   "execution_count": null,
   "metadata": {},
   "outputs": [
    {
     "data": {
      "text/plain": [
       "<langgraph.graph.state.StateGraph at 0x7dabc35afe70>"
      ]
     },
     "execution_count": 175,
     "metadata": {},
     "output_type": "execute_result"
    }
   ],
   "source": [
    "from langgraph.graph import StateGraph, END\n",
    "\n",
    "\n",
    "builder = StateGraph(State)\n",
    "# Add nodes with their corresponding functions\n",
    "builder.add_node(\"start_message\", start_message)\n",
    "builder.add_node(\"call_model\", call_model)\n",
    "builder.add_node(\"summarizer\", summarizer)\n",
    "builder.add_node(\"grading\", grading)\n",
    "builder.add_node(\"cheatingcheck\", cheatingcheck)\n",
    "builder.add_node(\"ending\", ending)\n",
    "builder.add_node(human_answer)\n",
    "\n",
    "# Set the entry point\n",
    "builder.set_entry_point(\"start_message\")\n",
    "\n",
    "# Define the edges\n",
    "builder.add_edge(\"start_message\", \"call_model\")\n",
    "builder.add_edge(\"call_model\",\"human_answer\")\n",
    "builder.add_edge(\"human_answer\", \"summarizer\")\n",
    "builder.add_edge(\"human_answer\", \"grading\")\n",
    "builder.add_edge(\"human_answer\", \"cheatingcheck\")\n",
    "\n",
    "# Add conditional edges using the routing function\n",
    "builder.add_conditional_edges(\n",
    "    \"human_answer\",\n",
    "    should_continue_interview,\n",
    "    {\n",
    "        \"continue\": \"call_model\",\n",
    "        \"end\": \"ending\"\n",
    "    }\n",
    ")\n",
    "\n",
    "# Define the end of the graph\n",
    "builder.add_edge(\"ending\", END)\n"
   ]
  },
  {
   "cell_type": "code",
   "execution_count": 176,
   "metadata": {},
   "outputs": [],
   "source": [
    "graph = builder.compile()"
   ]
  },
  {
   "cell_type": "code",
   "execution_count": null,
   "metadata": {},
   "outputs": [
    {
     "name": "stdout",
     "output_type": "stream",
     "text": [
      "call model\n",
      "human answer\n",
      "grading\n",
      "cheating check\n",
      "Should continue\n",
      "call model\n",
      "human answer\n",
      "grading\n",
      "cheating check\n",
      "Should continue\n",
      "{'questions': ['What is machine learning in 5 words', 'What is machine learning in 5 words'], 'answers': ['hfgh', 'fgh'], 'grade': 10, 'summary': 'The interview covered key topics in machine learning, including supervised vs. unsupervised learning and decision tree algorithms. The candidate demonstrated a solid understanding of the differences between labeled and unlabeled data, as well as appropriate examples for each learning type. They also explained the decision tree mechanism well, mentioning feature splits and criteria like information gain and Gini impurity. However, their explanation could have been improved by discussing pruning methods in more detail.', 'cheating_penalty': 10}\n",
      "question is  What is machine learning in 5 words\n"
     ]
    }
   ],
   "source": [
    "summary = '''The interview covered key topics in machine learning, including supervised vs. unsupervised learning and decision tree algorithms. The candidate demonstrated a solid understanding of the differences between labeled and unlabeled data, as well as appropriate examples for each learning type. They also explained the decision tree mechanism well, mentioning feature splits and criteria like information gain and Gini impurity. However, their explanation could have been improved by discussing pruning methods in more detail.'''\n",
    "state = State(questions=[], answers=[], grade=0, summary=summary,cheating_penalty=0)\n",
    "#from utils import tts,stt\n",
    "\n",
    "\n",
    "\n",
    "while True:\n",
    "    # 1. Get current question from graph\n",
    "    state = graph.invoke(state)\n",
    "    print(state)\n",
    "    \n",
    "    # 2. Speak question\n",
    "    #tts.audio(latest_question, \"question.wav\")\n",
    "    \n",
    "    print(\"question is \",state['questions'][-1])\n",
    "\n",
    "\n",
    "    #tts.audio(txt)\n",
    "    \n",
    "    #record_audio(\"input.wav\")\n",
    "    #user_answer = stt.transcribe(\"output.wav\")\n",
    "    \n",
    "    txt = \"random\"\n",
    "    state['answers'].append(txt)\n",
    "    break\n",
    "  \n",
    "    \n",
    "    "
   ]
  },
  {
   "cell_type": "code",
   "execution_count": 54,
   "metadata": {},
   "outputs": [
    {
     "data": {
      "image/png": "[encoded data removed]",
      "text/plain": [
       "<langgraph.graph.state.CompiledStateGraph object at 0x7dabcc0a15b0>"
      ]
     },
     "execution_count": 54,
     "metadata": {},
     "output_type": "execute_result"
    }
   ],
   "source": [
    "graph"
   ]
  },
  {
   "cell_type": "code",
   "execution_count": 185,
   "metadata": {},
   "outputs": [
    {
     "data": {
      "text/plain": [
       "{'questions': ['What is machine learning in 5 words',\n",
       "  'What is machine learning in 5 words'],\n",
       " 'answers': ['hfgh', 'fgh', 'random'],\n",
       " 'grade': 10,\n",
       " 'summary': 'The interview covered key topics in machine learning, including supervised vs. unsupervised learning and decision tree algorithms. The candidate demonstrated a solid understanding of the differences between labeled and unlabeled data, as well as appropriate examples for each learning type. They also explained the decision tree mechanism well, mentioning feature splits and criteria like information gain and Gini impurity. However, their explanation could have been improved by discussing pruning methods in more detail.',\n",
       " 'cheating_penalty': 10}"
      ]
     },
     "execution_count": 185,
     "metadata": {},
     "output_type": "execute_result"
    }
   ],
   "source": [
    "state"
   ]
  },
  {
   "cell_type": "code",
   "execution_count": 88,
   "metadata": {},
   "outputs": [],
   "source": [
    "from gtts import gTTS\n",
    "import os\n",
    "\n",
    "tts = gTTS(\"Hello, this is gTTS!\", lang='en')\n",
    "tts.save(\"output.mp3\")\n",
    "\n",
    "def audio(text):\n",
    "    tts = gTTS(text, lang='en')\n",
    "    tts.save(\"output.mp3\")\n",
    " \n",
    "    "
   ]
  },
  {
   "cell_type": "code",
   "execution_count": null,
   "metadata": {},
   "outputs": [],
   "source": []
  }
 ],
 "metadata": {
  "kernelspec": {
   "display_name": "genai",
   "language": "python",
   "name": "python3"
  },
  "language_info": {
   "codemirror_mode": {
    "name": "ipython",
    "version": 3
   },
   "file_extension": ".py",
   "mimetype": "text/x-python",
   "name": "python",
   "nbconvert_exporter": "python",
   "pygments_lexer": "ipython3",
   "version": "3.13.2"
  }
 },
 "nbformat": 4,
 "nbformat_minor": 2
}
